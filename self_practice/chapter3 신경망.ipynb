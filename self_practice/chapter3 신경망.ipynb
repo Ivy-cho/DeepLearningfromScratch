{
 "cells": [
  {
   "cell_type": "markdown",
   "metadata": {},
   "source": [
    "# chapter3  신경망\n",
    "- 퍼셉트론과 신경망이 차이점?\n",
    "- 시그모이드 함수,ReLU\n",
    "- 다차원 배열 계산\n",
    "- 소프트맥수 함수\n",
    "\n",
    "#### 출처 : 밑바닥 부터 시작하는 딥러닝"
   ]
  },
  {
   "cell_type": "markdown",
   "metadata": {},
   "source": [
    "***\n",
    "## 3.1 퍼셉트론에서 신경망으로 \n",
    "### 3.1.1 신경망의 예\n",
    "- 입력층, 출력층, 은닉층으로 이루어짐\n",
    "- x1과 x2를 인수로 받는  AND 함수 구현"
   ]
  },
  {
   "cell_type": "markdown",
   "metadata": {},
   "source": [
    "## 3.2 활성화 함수의 등장\n",
    "입력 신호의 총합을 출력 신호로 변환하는 함수 : 활성화 함수 (h(x))\n",
    "단일 퍼셉트론의 경우는 활성화함수로 계단함수를 사용 \n",
    "신경망의 경운은 시그모이드 함수 사용\n",
    "\n"
   ]
  },
  {
   "cell_type": "code",
   "execution_count": null,
   "metadata": {},
   "outputs": [
    {
     "data": {
      "text/plain": [
       "<Figure size 640x480 with 1 Axes>"
      ]
     },
     "metadata": {},
     "output_type": "display_data"
    }
   ],
   "source": [
    "#계단 함수 구현하기1 (실수만 받음)\n",
    "def step_function1(x):\n",
    "    if x >0 :\n",
    "        return 1\n",
    "    else:\n",
    "        return 0\n",
    "\n",
    "#계단함수 구현하기2 ( 넘파이 배열 받음)\n",
    "def step_function2(x):\n",
    "    y = x > 0\n",
    "    return y.astype(np.int)\n",
    "\n",
    "## 앞으로의 편의성을 위해서 step_function2 사용 \n",
    "\n",
    "import numpy as np\n",
    "import matplotlib.pylab as plt\n",
    "\n",
    "def step_function(x):\n",
    "    return np.array(x >0, dtype= np.int)\n",
    "\n",
    "x = np.arange(-5.0,5.0,0.1)\n",
    "y = step_function2(x)\n",
    "plt.plot(x,y)\n",
    "plt.ylim(-0.1,1.1)\n",
    "plt.show()\n",
    "\n"
   ]
  },
  {
   "cell_type": "code",
   "execution_count": 32,
   "metadata": {},
   "outputs": [
    {
     "data": {
      "image/png": "[encoded data removed]",
      "text/plain": [
       "<Figure size 432x288 with 1 Axes>"
      ]
     },
     "metadata": {
      "needs_background": "light"
     },
     "output_type": "display_data"
    }
   ],
   "source": [
    "#시그모이드 함수 구현하기\n",
    "def sigmoid(x):\n",
    "    return 1 / (1+np.exp(-x))\n",
    "\n",
    "x = np.arange(-5.0,5.0,0.1)\n",
    "y = sigmoid(x)\n",
    "plt.plot(x,y)\n",
    "plt.ylim(-0.1,1.1)\n",
    "plt.show()"
   ]
  },
  {
   "cell_type": "markdown",
   "metadata": {},
   "source": [
    "### 3.2.5 시그모이드 함수와 계단 함수 비교\n",
    "퍼셉트론은 계단함수, 신경망은 시그모이드\n",
    "계단함수와 시그모이드 함수는 출력이 0~1사이라는 점에서 공통점이 있으며 둘다 비선형 함수(직선1개로 그릴수없음)라는 것도 공통점이다.\n",
    "\n",
    "### 3.2.6 비선형 함수\n",
    "신경망에서는 활성화 함수로 비선형 함수를 사용해야 한다. \n",
    "은닉층 때문이다. 은닉층이 없으면 신경망이라고 할수 없다.\n",
    "앞서 XOR를 구현했던 예를 생각하면 쉬울것이다.\n",
    "선형함수는 층을 아무리 깊게해도 은닉층 없는 네트워크로도 똑같은 기능을 할수 있다. \n",
    "선형함수를 이용해서는 여러 층으로 구성하는 이점을 살릴수 없다. \n",
    "층을 쌓는 혜택을 얻고 싶다면 비선형 함수를 사용해야한다\n",
    "\n",
    "### 3.2.7 ReLU함수\n",
    "계단함수, 시그모이드 함수 이외 최근에 많이 쓰는 활성화 함수.\n",
    "입력이 0이 넘으면 입력을 그대로 출력, 0이하면 0을 출력"
   ]
  },
  {
   "cell_type": "code",
   "execution_count": 33,
   "metadata": {},
   "outputs": [],
   "source": [
    "#ReLU 구현\n",
    "def relu(x):\n",
    "    return np.maximum(0,x)"
   ]
  },
  {
   "cell_type": "markdown",
   "metadata": {},
   "source": [
    "### 3.3.3 신경망의 내적"
   ]
  },
  {
   "cell_type": "code",
   "execution_count": 34,
   "metadata": {},
   "outputs": [
    {
     "name": "stdout",
     "output_type": "stream",
     "text": [
      "(2,)\n",
      "[[1 3 5]\n",
      " [2 4 6]]\n",
      "(2, 3)\n",
      "[ 5 11 17]\n"
     ]
    }
   ],
   "source": [
    "#넘파이 행렬을 써서 신경망 구현하기\n",
    "#X(입력), W(가중치), Y(출력)의 형상 주의. 특히 X와 W의 대응하는 차원의 원소 수가 같아야 함(행렬곱이 가능하도록!)\n",
    "\n",
    "X = np.array([1,2])\n",
    "print(X.shape)\n",
    "W = np.array([[1,3,5],[2,4,6]])\n",
    "print(W)\n",
    "print(W.shape)\n",
    "Y = np.dot(X,W)\n",
    "print(Y)"
   ]
  },
  {
   "cell_type": "markdown",
   "metadata": {},
   "source": [
    "## 3.4 3층 신경망 구현하기"
   ]
  },
  {
   "cell_type": "code",
   "execution_count": 38,
   "metadata": {},
   "outputs": [
    {
     "name": "stdout",
     "output_type": "stream",
     "text": [
      "(2, 3)\n",
      "(2,)\n",
      "(3,)\n",
      "[0.3 0.7 1.1]\n",
      "[0.57444252 0.66818777 0.75026011]\n",
      "(3,)\n",
      "(3, 2)\n",
      "(2,)\n"
     ]
    }
   ],
   "source": [
    "#입력층에서 1층으로 신호 전달\n",
    "\n",
    "X = np.array([1.0,0.5]) #입력은 두개\n",
    "W1 = np.array([[0.1,0.3,0.5],[0.2,0.4,0.6]])  #두개의 입력에 대한 1층의 가중치\n",
    "B1 = np.array([0.1,0.2,0.3])# 전달된 입력에 대한 1층의 편향\n",
    "\n",
    "print(W1.shape)#(2,3)\n",
    "print(X.shape)#(2,)\n",
    "print(B1.shape)#(3,)\n",
    "\n",
    "A1 = np.dot(X,W1) + B1\n",
    "Z1 = sigmoid(A1)\n",
    "\n",
    "print(A1)\n",
    "print(Z1)\n",
    "\n",
    "#1층에서 2층으로 신호전달\n",
    "\n",
    "W2 = np.array([[0.1,0.4],[0.2,0.5],[0.3,0.6]])\n",
    "B2 = np.array([0.1,0.2])\n",
    "\n",
    "print(Z1.shape)\n",
    "print(W2.shape)\n",
    "print(B2.shape)\n",
    "\n",
    "A2 = np.dot(Z1, W2) + B2\n",
    "Z2 = sigmoid(A2)\n",
    "\n",
    "#2층에서 출력층으로 신호 전달\n",
    "def identity_function(x):\n",
    "    return x\n",
    "\n",
    "W3 = np.array([[0.1,0.3],[0.2,0.4]])\n",
    "B3 = np.array([0.1,0.2])\n",
    "\n",
    "A3 = np.dot(Z2, W3) + B3\n",
    "Y = identity_function(A3)"
   ]
  },
  {
   "cell_type": "markdown",
   "metadata": {},
   "source": [
    "### 3.4.3 구현정리"
   ]
  },
  {
   "cell_type": "code",
   "execution_count": 40,
   "metadata": {},
   "outputs": [
    {
     "name": "stdout",
     "output_type": "stream",
     "text": [
      "[0.31682708 0.69627909]\n"
     ]
    }
   ],
   "source": [
    "#위의 과정을 좀 그럴듯 하게 다시 간단히 구현하면\n",
    "\n",
    "def init_network():\n",
    "    network = {}\n",
    "    network['W1'] = np.array([[0.1,0.3,0.5],[0.2,0.4,0.6]])\n",
    "    network['b1'] = np.array([0.1,0.2,0.3])\n",
    "    network['W2'] = np.array([[0.1,0.4],[0.2,0.5],[0.3,0.6]])\n",
    "    network['b2'] = np.array([0.1,0.2])\n",
    "    network['W3'] = np.array([[0.1,0.3],[0.2,0.4]])\n",
    "    network['b3'] = np.array([0.1,0.2])\n",
    "    \n",
    "    return network\n",
    "\n",
    "def forward(network, x):\n",
    "    W1, W2, W3 = network['W1'], network['W2'], network['W3']\n",
    "    b1, b2, b3 = network['b1'], network['b2'], network['b3']\n",
    "    \n",
    "    a1 = np.dot(x,W1) + b1\n",
    "    z1 = sigmoid(a1)\n",
    "    a2 = np.dot(z1,W2) + b2\n",
    "    z2 = sigmoid(a2)\n",
    "    a3 = np.dot(z2,W3) + b3\n",
    "    y = identity_function(a3)\n",
    "    \n",
    "    return y\n",
    "\n",
    "network = init_network()\n",
    "x = np.array([1.0,0.5])\n",
    "y = forward(network,x)\n",
    "print(y)"
   ]
  },
  {
   "cell_type": "markdown",
   "metadata": {},
   "source": [
    "## 3.5 출력층 설계하기 \n",
    "\n",
    "- 신경망은 분류와 회귀 모두에 이용할 수 있다.\n",
    "- 다만 둘중 어떤 문제냐에 따라 출력층에서 사용하는 활성화 함수가 달라짐\n",
    " 회귀 : 항등함수 ( 입력 그대로 출력이됨)\n",
    " 분류 : 소프트맥스 함수 (입력신호의 지수 함수 / 모든 입력 신호의 지수 합수의 합) (출력이 0에서 1.0사이의 실수 값이며, 출력의 총합이 1)\n",
    "        => 이런 성질로 인해서 소프트맥수 합수의 출력을 '확률'로 해석이 가능함\n",
    "        \n",
    "- 출력층 뉴런 수 : 풀려는 문제에 맞게 적절히 정하기. 보통은 분류에서 분류하고 싶은 클래스 수로 설정함"
   ]
  },
  {
   "cell_type": "markdown",
   "metadata": {},
   "source": [
    "## 3.6 손글씨 숫자 인식\n",
    "- 이미 학습된 매개변수 사용\n",
    "- 학습과정 생략하고 추론과정만 구현 \n",
    "- 신경망의 순전파"
   ]
  },
  {
   "cell_type": "code",
   "execution_count": null,
   "metadata": {},
   "outputs": [
    {
     "name": "stdout",
     "output_type": "stream",
     "text": [
      "(60000, 784)\n",
      "(60000,)\n",
      "(10000, 784)\n",
      "(10000,)\n"
     ]
    }
   ],
   "source": [
    "import sys, os\n",
    "sys.path.append(os.pardir) #부모 디렉터리 파일을 가져올 수 있도록 설정\n",
    "from dataset.mnist import load_mnist\n",
    "\n",
    "#처음 한 번은 몇 분 정도 걸림\n",
    "(x_train, t_train), (x_test, t_test) =  load_mnist(flatten=True,normalize=False)\n",
    "\n",
    "#각 데이터의 형상 출력\n",
    "print(x_train.shape) #(60000,784)\n",
    "print(t_train.shape) #(60000,)\n",
    "print(x_test.shape) #(10000, 784)\n",
    "print(t_test.shape) #(10000,)"
   ]
  },
  {
   "cell_type": "code",
   "execution_count": 2,
   "metadata": {},
   "outputs": [
    {
     "name": "stdout",
     "output_type": "stream",
     "text": [
      "5\n",
      "(784,)\n",
      "(28, 28)\n"
     ]
    }
   ],
   "source": [
    "import sys, os\n",
    "sys.path.append(os.pardir)\n",
    "import numpy as np\n",
    "from dataset.mnist import load_mnist\n",
    "from PIL import Image\n",
    "\n",
    "\n",
    "def img_show(img):\n",
    "    pil_img = Image.fromarray(np.uint8(img))\n",
    "    pil_img.show()\n",
    "    \n",
    "(x_train, t_train), (x_test, t_test) = load_mnist(flatten=True,normalize=False)\n",
    "\n",
    "img = x_train[0]\n",
    "label = t_train[0]\n",
    "print(label) #5\n",
    "\n",
    "print(img.shape) #(784,)\n",
    "img = img.reshape(28, 28) # 원래 이미지의 모양으로 변형\n",
    "print(img.shape) #(28,28)\n",
    "\n",
    "img_show(img)\n",
    "\n"
   ]
  },
  {
   "cell_type": "markdown",
   "metadata": {},
   "source": [
    "### 3.6.2 신경망의 추론 처리\n",
    "-MNIST 데이터셋을 가지고 추론 수행하는 신경망 구현하기\n",
    "- 입력층 뉴런 : 784개, 이미지의 크기가 28x28 (= 784)\n",
    "- 출력층 뉴런 : 10개 :분류문제로 0 에서 9 까지 구분하는 문제\n",
    "- 은닉층 총 2개 : 각 50 ,100개 : 임의로 정함"
   ]
  },
  {
   "cell_type": "code",
   "execution_count": 1,
   "metadata": {},
   "outputs": [
    {
     "ename": "NameError",
     "evalue": "name 'load_mnist' is not defined",
     "output_type": "error",
     "traceback": [
      "\u001b[1;31m---------------------------------------------------------------------------\u001b[0m",
      "\u001b[1;31mNameError\u001b[0m                                 Traceback (most recent call last)",
      "\u001b[1;32m<ipython-input-1-89e54a01d137>\u001b[0m in \u001b[0;36m<module>\u001b[1;34m\u001b[0m\n\u001b[0;32m     23\u001b[0m     \u001b[1;32mreturn\u001b[0m \u001b[0my\u001b[0m\u001b[1;33m\u001b[0m\u001b[1;33m\u001b[0m\u001b[0m\n\u001b[0;32m     24\u001b[0m \u001b[1;33m\u001b[0m\u001b[0m\n\u001b[1;32m---> 25\u001b[1;33m \u001b[0mx\u001b[0m\u001b[1;33m,\u001b[0m \u001b[0mt\u001b[0m \u001b[1;33m=\u001b[0m \u001b[0mget_data\u001b[0m\u001b[1;33m(\u001b[0m\u001b[1;33m)\u001b[0m \u001b[1;31m# MNIST 데이터셋 가져오기\u001b[0m\u001b[1;33m\u001b[0m\u001b[1;33m\u001b[0m\u001b[0m\n\u001b[0m\u001b[0;32m     26\u001b[0m \u001b[0mnetwork\u001b[0m \u001b[1;33m=\u001b[0m \u001b[0minit_network\u001b[0m\u001b[1;33m(\u001b[0m\u001b[1;33m)\u001b[0m \u001b[1;31m# 네트워크 생성\u001b[0m\u001b[1;33m\u001b[0m\u001b[1;33m\u001b[0m\u001b[0m\n\u001b[0;32m     27\u001b[0m \u001b[1;33m\u001b[0m\u001b[0m\n",
      "\u001b[1;32m<ipython-input-1-89e54a01d137>\u001b[0m in \u001b[0;36mget_data\u001b[1;34m()\u001b[0m\n\u001b[0;32m      1\u001b[0m \u001b[1;32mdef\u001b[0m \u001b[0mget_data\u001b[0m\u001b[1;33m(\u001b[0m\u001b[1;33m)\u001b[0m\u001b[1;33m:\u001b[0m\u001b[1;33m\u001b[0m\u001b[1;33m\u001b[0m\u001b[0m\n\u001b[0;32m      2\u001b[0m     \u001b[1;33m(\u001b[0m\u001b[0mx_train\u001b[0m\u001b[1;33m,\u001b[0m \u001b[0mt_train\u001b[0m\u001b[1;33m)\u001b[0m\u001b[1;33m,\u001b[0m\u001b[1;33m(\u001b[0m\u001b[0mx_test\u001b[0m\u001b[1;33m,\u001b[0m\u001b[0mt_test\u001b[0m\u001b[1;33m)\u001b[0m \u001b[1;33m=\u001b[0m\u001b[0;31m \u001b[0m\u001b[0;31m\\\u001b[0m\u001b[1;33m\u001b[0m\u001b[1;33m\u001b[0m\u001b[0m\n\u001b[1;32m----> 3\u001b[1;33m     \u001b[0mload_mnist\u001b[0m\u001b[1;33m(\u001b[0m\u001b[0mnormalize\u001b[0m\u001b[1;33m=\u001b[0m\u001b[1;32mTrue\u001b[0m\u001b[1;33m,\u001b[0m\u001b[0mflatten\u001b[0m\u001b[1;33m=\u001b[0m\u001b[1;32mTrue\u001b[0m\u001b[1;33m,\u001b[0m \u001b[0mone_hot_laber\u001b[0m\u001b[1;33m=\u001b[0m\u001b[1;32mFalse\u001b[0m\u001b[1;33m)\u001b[0m \u001b[1;31m# 전처리\u001b[0m\u001b[1;33m\u001b[0m\u001b[1;33m\u001b[0m\u001b[0m\n\u001b[0m\u001b[0;32m      4\u001b[0m     \u001b[1;32mreturn\u001b[0m \u001b[0mx_test\u001b[0m\u001b[1;33m,\u001b[0m \u001b[0mt_test\u001b[0m\u001b[1;33m\u001b[0m\u001b[1;33m\u001b[0m\u001b[0m\n\u001b[0;32m      5\u001b[0m \u001b[1;33m\u001b[0m\u001b[0m\n",
      "\u001b[1;31mNameError\u001b[0m: name 'load_mnist' is not defined"
     ]
    }
   ],
   "source": [
    "def get_data():\n",
    "    (x_train, t_train),(x_test,t_test) = \\\n",
    "    load_mnist(normalize=True,flatten=True, one_hot_laber=False) # 전처리\n",
    "    return x_test, t_test\n",
    "\n",
    "def init_network():\n",
    "    with open(\"sample_weight.pkl\",'rb') as f:\n",
    "        network = pickle.load(f)\n",
    "        \n",
    "        return network\n",
    "    \n",
    "def predict(network, x): #각 레이블의 확률을 넘파이 배열로 반환\n",
    "    W1, W2, W3 = network['W1'], network['W2'], network['W3']\n",
    "    b1, b2, b3 = network['b1'], network['b2'], network['b3']\n",
    "    \n",
    "    a1 = np.dot(x,W1) + b1\n",
    "    z1 = sigmoid(a1)\n",
    "    a2 = np.dot(z1,W2) + b2\n",
    "    z2 = sigmoid(a2)\n",
    "    a3 = np.dot(z2,W3) + b3\n",
    "    y = softmax(a3)\n",
    "    \n",
    "    return y\n",
    "\n",
    "x, t = get_data() # MNIST 데이터셋 가져오기\n",
    "network = init_network() # 네트워크 생성\n",
    "\n",
    "accurary_cnt = 0\n",
    "for i in range(len(x)):\n",
    "    y = predict(network, x[i]) #x에 저장된 이미지 데이터를 1장씩 꺼내서 predict()함수로 분류\n",
    "    p = np.argmax(y) #확률이 가장 높은 원소의 인덱스를 얻는다 (=흐름상 가장 확률의 높은 글자를 찾게됨) = 예측결과\n",
    "    if p == t[i]: #예측결과와 정답레이블 비교하여 정확도를 구함\n",
    "        accuracy_cnt += 1 \n",
    "        \n",
    "print(\"Accuracy:\" + str(float(accuracy_cnt)/len(x)))"
   ]
  },
  {
   "cell_type": "markdown",
   "metadata": {},
   "source": [
    "# Chapter 4 신경망 학습\n",
    "\n",
    "-학습 : 훈련데이터로 부터 가중치 매개변수의 최적 값을 자동으로 획득\n",
    "-손실함수 : 신경망이 학습할 수 있도록 해주는 지표(손실함수의 결과값ㅇ르 가장 작게 만드는 가중치 매개변수를 찾는것이 학습의 목표)\n",
    "\n",
    "## 4.1 데이터에서 학습한다!\n",
    "신경망은 데이터를 보고 학습할 수 있다.(가중치 매개변수의 값을 데이터를 보고 자동으로 결정한다)\n",
    "\n",
    "### 4.1.1 데이터 주도학습\n",
    "지도학습 : 사람이 신경씀 + 머신러닝\n",
    "비지도학습 : 사람이 신경안씀 : 딥러닝\n",
    "\n",
    "### 4.1.2 훈련 데이터와 시험 데이터\n",
    "\n",
    " >데이터 셋을 두개로 나눈다.\n",
    "   -훈련 데이터 : 학습하면서 최적의 매개변수를 찾음\n",
    "   -시험 데이터 : 앞서 트레이닝된 모델을 평가\n",
    "   : 이렇게 두개의 군집으로 나누는 이유는 범용 능력을 평가하고 싶어서\n",
    "   오버피팅 : 특정 데이터셋에만 지나치게 최적화되서 범용 능력이 떨어짐\n",
    "   \n",
    "## 4.2 손실 함수\n",
    "손실함수 : 신경망 학습에서는 현재의 상태를 '하나의 지표'로 표현하고 그 지표를 가장 좋게 만들어주는 가중치 매개변수를의 값을 탐색한다. \n",
    "           신경망 학습에서 사용하는 지표는 '손실함수'이며 손실함수로 보통 평균제곰오차와 교차 엔트로피 오차를 사용한다. \n",
    "           \n",
    "\n"
   ]
  },
  {
   "cell_type": "code",
   "execution_count": 58,
   "metadata": {},
   "outputs": [
    {
     "name": "stdout",
     "output_type": "stream",
     "text": [
      "0.09750000000000003\n",
      "0.5975\n",
      "0.510825457099338\n",
      "2.302584092994546\n"
     ]
    }
   ],
   "source": [
    "### 4.2.1 평균 제곱 오차\n",
    "#가장 많이 쓰는 손실함수\n",
    "\n",
    "\n",
    "#     0    1   2   3   4    5   6   7   8   9\n",
    "y1 = [0.1,0.05,0.6,0.0,0.05,0.1,0.0,0.1,0.0,0.0]#소프트맥스 함수 출력 결과로, 확률로 설명가능, 2의 확률이 0.6으로 제일 높음\n",
    "y2 = [0.1,0.05,0.1,0.0,0.05,0.1,0.0,0.6,0.0,0.0]#여기서는 7일확률이 0.6으로 제일 높음\n",
    "\n",
    "t = [0,0,1,0,0,0,0,0,0,0]#숫자 2에 해당하는 원소 값이 1이미 정답이 '2' => 정답만 1로 표기 나머지는 0으로 나타냄 = 원-핫 인코딩\n",
    "\n",
    "\n",
    "#평균제곱오차구현\n",
    "def mean_squared_error(y,t):\n",
    "    return 0.5 * np.sum((y-t)**2)\n",
    "\n",
    "\n",
    "print(mean_squared_error(np.array(y1),np.array(t)))\n",
    "#0.09750000000000003  :y1이 정답이 확률 약 97%\n",
    "\n",
    "print(mean_squared_error(np.array(y2),np.array(t)))\n",
    "#0.5975  :y2가 정답일 확률 약 59%\n",
    "\n",
    "#평균 제곰 오차를 기준으로 첫번째 추정결과가 더 정답에 가까움\n",
    "\n",
    "### 4.2.2 교차 엔트로피 오차\n",
    "#정답일때의 출력이 전체 값을 정한다.\n",
    "#예시에서 정답은 \"2\" ,이때의 신경망 출력은 0.6 => 교차 엔트로피오차는 0.51 같은 조건에서 신경망 출력이 0.1(오답)이라면 2.30으로 오차가 커짐. \n",
    "#교차엔트로피오차 구현\n",
    "def cross_entropy_error(y,t):\n",
    "    delta = 1e-7\n",
    "    return -np.sum(t*np.log(y+delta))\n",
    "\n",
    "\n",
    "print(cross_entropy_error(np.array(y1),np.array(t)))\n",
    "#0.510825457099338 \n",
    "\n",
    "print(cross_entropy_error(np.array(y2),np.array(t)))\n",
    "#2.302584092994546\n",
    "#교차엔트로피오차를 기준으로 첫번째 추정결과가 더 정답에 가까움\n"
   ]
  },
  {
   "cell_type": "markdown",
   "metadata": {},
   "source": [
    "### 4.2.3 미니배치 학습\n",
    "훈련 데이터에 대한 손실 함수 값을 구하고(오차값은 최소가 되어야함), 그 값을 최대한 줄여주는 매개변수를 찾아냄\n",
    "훈련데이터가 100개가 있으면 그로부터 계산한 100개의 오차값의 평균을 구함.\n",
    "훈련데이터가 너무너무 많을 경우 임의로 개수만큼 데이터를 무작위로 골라내서 학습하는데 이를 미니 배치학습이라고함\n"
   ]
  },
  {
   "cell_type": "code",
   "execution_count": 65,
   "metadata": {},
   "outputs": [
    {
     "name": "stdout",
     "output_type": "stream",
     "text": [
      "(60000, 784)\n",
      "(60000, 10)\n",
      "[ 8867 20904  6379   391  9729 17997 56447 39453 20874 33596]\n"
     ]
    }
   ],
   "source": [
    "import sys, os\n",
    "sys.path.append(os.pardir)\n",
    "import numpy as np\n",
    "from dataset.mnist import load_mnist\n",
    "\n",
    "\n",
    "## normalize :정규화된 데이터만 배열을 얻음, one_hot_label:정답 위치의 원소만 1이고 나머지가 0인 배열을 얻음\n",
    "(x_train, t_train),(x_test,t_test) = load_mnist(normalize= True, one_hot_label=True)\n",
    "print(x_train.shape) # (60000, 784)\n",
    "print(t_train.shape) # (60000, 10)\n",
    "\n",
    "train_size = x_train.shape[0] #60000\n",
    "batch_size = 10 #10\n",
    "# 60000미만의 수에서 무작위로 10개를 고름\n",
    "batch_mask = np.random.choice(train_size, batch_size)\n",
    "print(batch_mask) #무작위로 뽑힌 10개의 인덱스를 확인할수 있다\n",
    "x_batch = x_train[batch_mask]\n",
    "t_batch = t_train[batch_mask]\n",
    "\n",
    "def cross_entropy_error(y,t):\n",
    "    if y.ndim == 1:\n",
    "        t = t.reshape(1,t.size)\n",
    "        y = y.reshape(1,y.size)\n",
    "        \n",
    "        batch_size = y.shape[0]\n",
    "        return -np.sum(np.log(y[np.arange(batch_size),t])) / batch_size\n",
    "    \n",
    "    \n",
    "\n"
   ]
  },
  {
   "cell_type": "markdown",
   "metadata": {},
   "source": [
    "### 4.2.5 손실함수를 설정하는 이유\n",
    "\n",
    "학습의 목표는 '정확도'를 끌어내는 매개변수값을 찾는 것이다. \n",
    "그런데 왜 '정확도'라는 지표를 놔두고 '손실함수의 값'이라는 우회적인 방법을 선택하는 걸까?\n",
    "\n"
   ]
  },
  {
   "cell_type": "markdown",
   "metadata": {},
   "source": [
    "## 4.3 미분\n",
    "- 미분 = 한 순간의 변화량\n",
    "- 수치 미분 : 오차를 포함하는 미분 => 딥러닝에서 말하는 미분\n",
    "- 해석적미분 : 고등학교때 배우는 미분\n",
    "- 편미분 : 변수가 여럿인 함수에 대한 미분\n",
    "신경망에서는 편미분을 사용하는데 모든 가중치 변수에대한 기울기를 구해야하기 때문\n",
    "\n",
    "## 4.4 기울기\n",
    "모든 변수의 편미분을 벡터로 정리한 것을 기울기라고 라고 한다.\n",
    "기울기는 함수의 '가장 낮은 장소(최솟값)'가리킨다. \n",
    "기울기가 가리키는 쪽은 각 장소에서 함수의 출력 값을 가장 크게 줄이는 방향이다.\n",
    "\n",
    "### 4.4.1 경사법(경사 하강법)\n",
    "머신러닝 -> 러닝 단계에서 최적의 매개변수를 찾음.\n",
    "신경망역시 최적(=손실 함수가 최소가 되는 값) 배개변수(가중치와 편향)을 러닝을 통해 찾아야함. \n",
    "기울기를 잘 이용해 함수의 최솟값( 가능한한 작은값)을 찾는것이 것이 경사법 \n",
    "경사 하강 법을 통해서 머신러닝 최적화를 한다.\n",
    "학습률 : 한번의 학습으로 얼마만큼 학습해야 할지, 즉 매개변수 값이 얼마나 갱신하는냐를 정하느 것, 너무 작아도 너무 커도 문제.\n",
    "\n",
    "### 4.4.2 신경망에서의 기울기\n",
    "신경망 학습에서의 기울기 = 가중지 매개변수에 대한 손실 함수의 기울기"
   ]
  },
  {
   "cell_type": "code",
   "execution_count": 84,
   "metadata": {},
   "outputs": [
    {
     "name": "stdout",
     "output_type": "stream",
     "text": [
      "[[-0.57822294 -1.05095302 -0.56104759]\n",
      " [ 0.16814516  0.33520498  0.21379606]]\n",
      "[-0.19560312 -0.32888733 -0.1442121 ]\n",
      "[[ 0.20492142  0.17935057 -0.38427199]\n",
      " [ 0.30738213  0.26902586 -0.57640799]]\n"
     ]
    }
   ],
   "source": [
    "import sys, os\n",
    "sys.path.append(os.pardir)\n",
    "\n",
    "import numpy as np\n",
    "from common.functions import softmax, cross_entropy_error\n",
    "from common.gradient import numerical_gradient\n",
    "\n",
    "class simpleNet:\n",
    "    def __init__(self):\n",
    "        self.W = np.random.randn(2,3) #정규분포로 초기화 \n",
    "        \n",
    "    def predict(self, x):\n",
    "        return np.dot(x, self.W)\n",
    "    \n",
    "    def loss(self, x, t):\n",
    "        z = self.predict(x)\n",
    "        y = softmax(z)\n",
    "        loss = cross_entropy_error(y,t)\n",
    "        \n",
    "        return loss\n",
    "    \n",
    "    \n",
    "net = simpleNet()\n",
    "print(net.W) #가중치 매개변수\n",
    "\n",
    "x = np.array([0.6, 0.9])\n",
    "p = net.predict(x)\n",
    "print(p)\n",
    "\n",
    "np.argmax(p)\n",
    "\n",
    "t = np.array([0, 0, 1]) #정답 레이블\n",
    "net.loss(x,t)\n",
    "\n",
    "def f(W):\n",
    "    return net.loss(x,t)\n",
    "\n",
    "dW = numerical_gradient(f,net.W)\n",
    "print(dW)"
   ]
  },
  {
   "cell_type": "markdown",
   "metadata": {},
   "source": [
    "## 4.5 학습 알고리즘 구현하기\n",
    "\n",
    "신경망 학습의 절차\n",
    "\n",
    "전제\n",
    " 신경망에는 적응 가능한 가중치와 편향이 있고, 이 가중치와 편향을 훈련 데이터에 적응하도록 조정하는 과정을 '학습'이라한다.\n",
    " \n",
    " 1단계 - 미니 배치 : 훈련데이터중 일부를 무작위로 가져옴\n",
    " 2단계 - 기울기 산출 : 미니배치의 손실함수 값을 줄이기 위해 각가중치의 매개변수 기울기를 구한다.\n",
    " 3단계 = 매개변수 갱신 : 가중치 매개변수를 기울기 방향으로 아주 조금 갱신\n",
    " 4단계 = 반복"
   ]
  },
  {
   "cell_type": "code",
   "execution_count": 90,
   "metadata": {},
   "outputs": [],
   "source": [
    "#4.5.2 2층 신경망 클래스 구현하기 \n",
    "\n",
    "import sys, os\n",
    "sys.path.append(os.pardir)\n",
    "from common.functions import *\n",
    "from common.gradient import numerical_gradient\n",
    "\n",
    "class TwoLayerNet:\n",
    "    def __init__(self, input_size, hidden_size, output_size, weight_init_std=0.01):\n",
    "        #가중치 초기화\n",
    "        self.params = {}\n",
    "        self.params['W1'] = weight_init_std * \\\n",
    "                            np.random.randn(input_size, hidden_size)\n",
    "        self.params['b1'] = np.zeros(hidden_size)\n",
    "        self.params['W2'] = weight_init_std * \\\n",
    "                            np.random.randn(hidden_size, output_size)\n",
    "        self.params['b2'] = np.zeros(output_size)\n",
    "        \n",
    "        \n",
    "    def predict(self, x):\n",
    "        W1, W2 = self.params['W1'], self.params['W2']\n",
    "        b1, b2 = self.params['b1'], self.params['b2']\n",
    "        \n",
    "        a1 = np.dot(x, W1) + b1\n",
    "        z1 = sigmoid(a1)\n",
    "        a2 = np.dot(z1,W2) + b2\n",
    "        y = softmax(a2)\n",
    "        \n",
    "        return y\n",
    "    \n",
    "    def loss(self, x, t):\n",
    "        y = self.predict(x)\n",
    "        y = np.argmax(y, axis =1)\n",
    "        t = np.argmax(t, axis =1)\n",
    "        \n",
    "        accuracy = np.sum(y == t) / float(x.shape[0])\n",
    "        return accuracy\n",
    "    \n",
    "    #x :입력 데이터, t: 정답 레이블\n",
    "    def numerical_gradient(self, x, t):\n",
    "        loss_W = lambda W: self.loss(x,t)\n",
    "        \n",
    "        grads = {}\n",
    "        grads['W1'] = numerical_gradient(loss_W, self.params['W1'])\n",
    "        grads['b1'] = numerical_gradient(loss_W, self.params['b1'])\n",
    "        grads['W2'] = numerical_gradient(loss_W, self.params['W2'])\n",
    "        grads['b2'] = numerical_gradient(loss_W, self.params['b2'])\n",
    "        \n",
    "        return grads\n",
    "    \n",
    "    net = TwoLayerNet(input_size = 784, hidden_size = 100, output_size = 10)\n",
    "    net.params['W1'].shape #(784,100)\n",
    "    net.params['b1'].shape #(100,)\n",
    "    net.params['W2'].shape #(100,10)\n",
    "    net.params['b2'].shape #(10,)\n",
    "    \n",
    "    x = np.random.rand(100,784) #더미 입력 데이터(100장 분량)\n",
    "    y = net.predict(x)\n",
    "    \n",
    "    t = np.random.rand(100,10) #더미 정답 레이블(100장 분량)\n",
    "    \n",
    "    grads = net.numerical_gradient(x,t) #기울기 계산\n",
    "    grads['W1'].shape #(784, 100)\n",
    "    grads['b1'].shape #(100,)\n",
    "    grads['W2'].shape #(100, 10)\n",
    "    grads['b2'].shape #(10,)"
   ]
  },
  {
   "cell_type": "code",
   "execution_count": null,
   "metadata": {},
   "outputs": [],
   "source": [
    "#4.5.2 미니배치 학습 구현하기 \n",
    "\n",
    "import numpy as np\n",
    "\n",
    "from dataset.mnist import load_mnist\n",
    "from two_layer_net import TwoLayerNet\n",
    "\n",
    "\n",
    "\n",
    "(x_train, t_train), (x_test, t_test) = \\\n",
    "    load_mnist(normalize=True, one_hot_label = True)\n",
    "\n",
    "train_loss_list = []\n",
    "\n",
    "#하이퍼파라미터\n",
    "iters_num = 10000 #반복 횟수\n",
    "train_size = x_train.shape[0]\n",
    "batch_size = 100 #미니배치 크기\n",
    "learning_rate = 0.1\n",
    "\n",
    "network = TwoLayerNet(input_size=784, hidden_size=50,output_size=10)\n",
    "\n",
    "for i in range(iters_num):\n",
    "    #미니배치 획득\n",
    "    batch_mask = np.random.choice(train_size, batch_size)\n",
    "    x_batch = x_train[batch_mask]\n",
    "    t_batch = t_train[batch_mask]\n",
    "    \n",
    "    #기울기 계산\n",
    "    grad = network.numerical_gradient(x_batch, t_batch)\n",
    "    #grad = network.gradient(x_batch, t_batch) #성능 개선판!\n",
    "    \n",
    "    #매개변수 갱신\n",
    "    for key in('W1', 'b1', 'W2', 'b2'):\n",
    "        network.params[key] -= learning_rate * grad[key]\n",
    "        \n",
    "    #학습 경과 기록\n",
    "    loss = network.loss(x_batch, t_batch)\n",
    "    train_loss_list.append(loss)"
   ]
  },
  {
   "cell_type": "code",
   "execution_count": 3,
   "metadata": {},
   "outputs": [
    {
     "name": "stdout",
     "output_type": "stream",
     "text": [
      "train acc, test acc | 0.10218333333333333, 0.101\n",
      "train acc, test acc | 0.782, 0.7903\n",
      "train acc, test acc | 0.8777833333333334, 0.8814\n",
      "train acc, test acc | 0.8986833333333333, 0.9015\n",
      "train acc, test acc | 0.9077, 0.9109\n",
      "train acc, test acc | 0.9147166666666666, 0.9157\n",
      "train acc, test acc | 0.9189, 0.9204\n",
      "train acc, test acc | 0.9244, 0.926\n",
      "train acc, test acc | 0.9271333333333334, 0.9286\n",
      "train acc, test acc | 0.9311166666666667, 0.9315\n",
      "train acc, test acc | 0.93435, 0.9336\n",
      "train acc, test acc | 0.93685, 0.9363\n",
      "train acc, test acc | 0.94, 0.9383\n",
      "train acc, test acc | 0.9424, 0.9424\n",
      "train acc, test acc | 0.94385, 0.9431\n",
      "train acc, test acc | 0.94545, 0.9442\n",
      "train acc, test acc | 0.9478166666666666, 0.945\n"
     ]
    },
    {
     "data": {
      "text/plain": [
       "<Figure size 640x480 with 1 Axes>"
      ]
     },
     "metadata": {},
     "output_type": "display_data"
    }
   ],
   "source": [
    "# coding: utf-8\n",
    "import sys, os\n",
    "sys.path.append(os.pardir) \n",
    "import numpy as np\n",
    "import matplotlib.pyplot as plt\n",
    "from dataset.mnist import load_mnist\n",
    "from two_layer_net import TwoLayerNet\n",
    "\n",
    "\n",
    "(x_train, t_train), (x_test, t_test) = load_mnist(normalize=True, one_hot_label=True)\n",
    "\n",
    "network = TwoLayerNet(input_size=784, hidden_size=50, output_size=10)\n",
    "\n",
    "#하이퍼파라미터\n",
    "iters_num = 10000  #반복 횟수\n",
    "train_size = x_train.shape[0]\n",
    "batch_size = 100 #미니배치 크기\n",
    "learning_rate = 0.1\n",
    "\n",
    "train_loss_list = []\n",
    "train_acc_list = []\n",
    "test_acc_list = []\n",
    "\n",
    "iter_per_epoch = max(train_size / batch_size, 1)\n",
    "#미니배치 획득\n",
    "for i in range(iters_num):\n",
    "    batch_mask = np.random.choice(train_size, batch_size)\n",
    "    x_batch = x_train[batch_mask]\n",
    "    t_batch = t_train[batch_mask]\n",
    "    \n",
    "    #기울기 계산\n",
    "    #grad = network.numerical_gradient(x_batch, t_batch)\n",
    "    grad = network.gradient(x_batch, t_batch)\n",
    "    \n",
    "    #매개변수 갱신\n",
    "    for key in ('W1', 'b1', 'W2', 'b2'):\n",
    "        network.params[key] -= learning_rate * grad[key]\n",
    "    #학습경과 기록\n",
    "    loss = network.loss(x_batch, t_batch)\n",
    "    train_loss_list.append(loss)\n",
    "    \n",
    "    if i % iter_per_epoch == 0:\n",
    "        train_acc = network.accuracy(x_train, t_train)\n",
    "        test_acc = network.accuracy(x_test, t_test)\n",
    "        train_acc_list.append(train_acc)\n",
    "        test_acc_list.append(test_acc)\n",
    "        print(\"train acc, test acc | \" + str(train_acc) + \", \" + str(test_acc))\n",
    "\n",
    "markers = {'train': 'o', 'test': 's'}\n",
    "x = np.arange(len(train_acc_list))\n",
    "plt.plot(x, train_acc_list, label='train acc')\n",
    "plt.plot(x, test_acc_list, label='test acc', linestyle='--')\n",
    "plt.xlabel(\"epochs\")\n",
    "plt.ylabel(\"accuracy\")\n",
    "plt.ylim(0, 1.0)\n",
    "plt.legend(loc='lower right')\n",
    "plt.show()"
   ]
  },
  {
   "cell_type": "markdown",
   "metadata": {},
   "source": [
    "***\n",
    "# 수고하셨습니다"
   ]
  }
 ],
 "metadata": {
  "hide_input": false,
  "kernelspec": {
   "display_name": "Python 3",
   "language": "python",
   "name": "python3"
  },
  "language_info": {
   "codemirror_mode": {
    "name": "ipython",
    "version": 3
   },
   "file_extension": ".py",
   "mimetype": "text/x-python",
   "name": "python",
   "nbconvert_exporter": "python",
   "pygments_lexer": "ipython3",
   "version": "3.7.3"
  }
 },
 "nbformat": 4,
 "nbformat_minor": 2
}
